{
 "cells": [
  {
   "cell_type": "code",
   "execution_count": null,
   "id": "673f1c6a-3be4-43ec-9f6c-3f624a6a784a",
   "metadata": {},
   "outputs": [],
   "source": [
    "import pandas as pd\n",
    "import numpy as np\n",
    "from time import time\n",
    "import logging\n",
    "import matplotlib.pyplot as plt\n",
    "import pylab as pl\n",
    "import pickle\n",
    "from sklearn.model_selection import train_test_split\n",
    "from sklearn.model_selection import GridSearchCV\n",
    "from sklearn.datasets import fetch_lfw_people\n",
    "from sklearn.metrics import classification_report\n",
    "from sklearn.metrics import confusion_matrix, accuracy_score\n",
    "from sklearn.decomposition import PCA\n",
    "from sklearn.svm import SVC\n",
    "from sklearn.ensemble import RandomForestClassifier\n",
    "import cv2\n",
    "import time"
   ]
  },
  {
   "cell_type": "markdown",
   "id": "6ec1b69d-2c68-48dc-b9b6-946a69a0e1ad",
   "metadata": {},
   "source": [
    "# Load the model"
   ]
  },
  {
   "cell_type": "code",
   "execution_count": null,
   "id": "01ce6fc5-7969-4e6f-846c-f2e56f9bd850",
   "metadata": {},
   "outputs": [],
   "source": [
    "# ensure correct path\n",
    "pick=open('FINAL.pkl','rb')\n",
    "model_1=pickle.load(pick)\n",
    "pick.close()"
   ]
  },
  {
   "cell_type": "code",
   "execution_count": null,
   "id": "80f217d2-c7af-488d-9718-8375203f8793",
   "metadata": {},
   "outputs": [],
   "source": [
    "\n",
    "\n",
    "# Load the pre-trained KNN model\n",
    "knn = model_1\n",
    "#face_cascade = cv2.CascadeClassifier('haarcascade_frontalface_default.xml')\n",
    "# give the proper target names according to your project\n",
    "target_names=['Aditya','Shubh','Jay']\n",
    "# Function to recognize faces and put text on the frame\n",
    "def recognize_faces_and_put_text(frame):\n",
    "    gray = cv2.cvtColor(frame, cv2.COLOR_BGR2GRAY)\n",
    "\n",
    "    # Resize to the same size as training data\n",
    "    gray_resized = cv2.resize(gray, (64, 48))\n",
    "    #faces = face_cascade.detectMultiScale(gray, 1.1, 4)\n",
    "    # Flatten the image into a single row\n",
    "    face_roi = gray_resized.flatten().reshape(1, -1)\n",
    "\n",
    "    # Predict using the KNN model\n",
    "   # _, result, _, _ = knn_model.findNearest(face_roi.astype('float32'), k=5)\n",
    "    prediction=knn.predict(face_roi)\n",
    "    # Put the predicted label on the frame\n",
    "    cv2.putText(frame, target_names[int(prediction)], (50, 50), cv2.FONT_HERSHEY_SIMPLEX, 1, (0, 0, 255), 2)\n",
    "    # for (x, y, w, h) in faces:\n",
    "    #     cv2.rectangle(frame, (x, y), (x+w, y+h), (255, 0, 0), 2)\n",
    "    return frame\n",
    "\n",
    "# Initialize the camera\n",
    "cap = cv2.VideoCapture(0)\n",
    "\n",
    "while True:\n",
    "    ret, frame = cap.read()\n",
    "    if not ret:\n",
    "        break\n",
    "\n",
    "    # Call the function to recognize faces and put text\n",
    "    frame = recognize_faces_and_put_text(frame)\n",
    "\n",
    "    # Display the frame\n",
    "    cv2.imshow('Face Recognition', frame)\n",
    "\n",
    "    # Exit on 'q' press\n",
    "    if cv2.waitKey(1) & 0xFF == ord('q'):\n",
    "        break\n",
    "\n",
    "# Release the camera and close all OpenCV windows\n",
    "cap.release()\n",
    "cv2.destroyAllWindows()\n"
   ]
  }
 ],
 "metadata": {
  "kernelspec": {
   "display_name": "Python 3 (ipykernel)",
   "language": "python",
   "name": "python3"
  },
  "language_info": {
   "codemirror_mode": {
    "name": "ipython",
    "version": 3
   },
   "file_extension": ".py",
   "mimetype": "text/x-python",
   "name": "python",
   "nbconvert_exporter": "python",
   "pygments_lexer": "ipython3",
   "version": "3.9.10"
  }
 },
 "nbformat": 4,
 "nbformat_minor": 5
}
